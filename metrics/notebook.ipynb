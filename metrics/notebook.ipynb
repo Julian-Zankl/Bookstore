{
 "cells": [
  {
   "cell_type": "markdown",
   "id": "d73a9639",
   "metadata": {},
   "source": [
    "# Bookstore Metrics"
   ]
  },
  {
   "cell_type": "markdown",
   "id": "396aa22f",
   "metadata": {},
   "source": [
    "## Imports"
   ]
  },
  {
   "cell_type": "code",
   "execution_count": 6,
   "id": "6d05c0fe",
   "metadata": {},
   "outputs": [],
   "source": [
    "import sqlite3\n",
    "import json\n",
    "import pandas as pd\n",
    "import matplotlib.pyplot as plt\n",
    "import numpy as np\n",
    "import subprocess\n",
    "import time"
   ]
  },
  {
   "cell_type": "markdown",
   "id": "e651986a",
   "metadata": {},
   "source": [
    "## Load SQLite Database"
   ]
  },
  {
   "cell_type": "code",
   "execution_count": null,
   "id": "460a59ad",
   "metadata": {},
   "outputs": [],
   "source": [
    "conn = sqlite3.connect('metrics.db')\n",
    "df = pd.read_sql_query('SELECT * FROM metrics', conn)\n",
    "conn.close()"
   ]
  },
  {
   "cell_type": "markdown",
   "id": "9aacd04e",
   "metadata": {},
   "source": [
    "## Trigger Lighthouse"
   ]
  },
  {
   "cell_type": "code",
   "execution_count": null,
   "id": "3ef948c3",
   "metadata": {},
   "outputs": [
    {
     "name": "stdout",
     "output_type": "stream",
     "text": [
      "Running Lighthouse - Iteration 1 of 1\n"
     ]
    },
    {
     "name": "stderr",
     "output_type": "stream",
     "text": [
      "Exception in thread Thread-33 (_readerthread):\n",
      "Traceback (most recent call last):\n",
      "  File \"C:\\Users\\julia\\AppData\\Local\\Programs\\Python\\Python312\\Lib\\threading.py\", line 1052, in _bootstrap_inner\n",
      "    self.run()\n",
      "  File \"c:\\Users\\julia\\Documents\\Projekte\\Bachelorarbeit\\Bookstore\\metrics\\.venv\\Lib\\site-packages\\ipykernel\\ipkernel.py\", line 766, in run_closure\n",
      "    _threading_Thread_run(self)\n",
      "  File \"C:\\Users\\julia\\AppData\\Local\\Programs\\Python\\Python312\\Lib\\threading.py\", line 989, in run\n",
      "    self._target(*self._args, **self._kwargs)\n",
      "  File \"C:\\Users\\julia\\AppData\\Local\\Programs\\Python\\Python312\\Lib\\subprocess.py\", line 1597, in _readerthread\n",
      "    buffer.append(fh.read())\n",
      "                  ^^^^^^^^^\n",
      "  File \"C:\\Users\\julia\\AppData\\Local\\Programs\\Python\\Python312\\Lib\\encodings\\cp1252.py\", line 23, in decode\n",
      "    return codecs.charmap_decode(input,self.errors,decoding_table)[0]\n",
      "           ^^^^^^^^^^^^^^^^^^^^^^^^^^^^^^^^^^^^^^^^^^^^^^^^^^^^^^^\n",
      "UnicodeDecodeError: 'charmap' codec can't decode byte 0x9d in position 158251: character maps to <undefined>\n"
     ]
    },
    {
     "name": "stdout",
     "output_type": "stream",
     "text": [
      "Lighthouse completed successfully - Iteration 1\n"
     ]
    }
   ],
   "source": [
    "def lighthouse(iterations):\n",
    "    for i in range(iterations):\n",
    "        print(f\"Running Lighthouse - Iteration {i + 1} of {iterations}\")\n",
    "        try:\n",
    "            subprocess.run([\"docker-compose\", \"exec\", \"lighthouse\", \"npm\", \"run\", \"start\"], check=True)\n",
    "            print(f\"Lighthouse completed successfully - Iteration {i + 1}\")\n",
    "        except subprocess.CalledProcessError as e:\n",
    "            print(f\"Error occurred in iteration {i + 1}: {e}\")\n",
    "        time.sleep(1)\n",
    "        \n",
    "iterations = 1\n",
    "lighthouse(iterations)"
   ]
  },
  {
   "cell_type": "markdown",
   "id": "043911c3",
   "metadata": {},
   "source": [
    "## Check Metrics Data"
   ]
  },
  {
   "cell_type": "code",
   "execution_count": null,
   "id": "f629d98d",
   "metadata": {},
   "outputs": [],
   "source": [
    "print(df.head())"
   ]
  },
  {
   "cell_type": "markdown",
   "id": "e9f2a50d",
   "metadata": {},
   "source": [
    "## Modify Data into Data Frame for plotting"
   ]
  },
  {
   "cell_type": "code",
   "execution_count": null,
   "id": "e3e51085",
   "metadata": {},
   "outputs": [],
   "source": [
    "df['parsed_report'] = df['report'].apply(json.loads)"
   ]
  },
  {
   "cell_type": "markdown",
   "id": "6d7ee413",
   "metadata": {},
   "source": [
    "## Boxplot Diagrams"
   ]
  },
  {
   "cell_type": "code",
   "execution_count": null,
   "id": "e58ae923",
   "metadata": {},
   "outputs": [],
   "source": []
  }
 ],
 "metadata": {
  "kernelspec": {
   "display_name": "Python (metrics)",
   "language": "python",
   "name": "metrics"
  },
  "language_info": {
   "codemirror_mode": {
    "name": "ipython",
    "version": 3
   },
   "file_extension": ".py",
   "mimetype": "text/x-python",
   "name": "python",
   "nbconvert_exporter": "python",
   "pygments_lexer": "ipython3",
   "version": "3.12.0"
  }
 },
 "nbformat": 4,
 "nbformat_minor": 5
}
