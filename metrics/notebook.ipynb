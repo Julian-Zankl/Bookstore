{
 "cells": [
  {
   "cell_type": "markdown",
   "id": "d73a9639",
   "metadata": {},
   "source": [
    "# Bookstore Metrics"
   ]
  },
  {
   "cell_type": "markdown",
   "id": "396aa22f",
   "metadata": {},
   "source": [
    "## Imports"
   ]
  },
  {
   "cell_type": "code",
   "execution_count": 3,
   "id": "6d05c0fe",
   "metadata": {},
   "outputs": [],
   "source": [
    "from flask import Flask, request, jsonify\n",
    "import sqlite3\n",
    "from datetime import datetime\n",
    "import os"
   ]
  },
  {
   "cell_type": "markdown",
   "id": "e651986a",
   "metadata": {},
   "source": [
    "## Load SQLite Database"
   ]
  },
  {
   "cell_type": "code",
   "execution_count": 5,
   "id": "460a59ad",
   "metadata": {},
   "outputs": [],
   "source": [
    "app = Flask(__name__)\n",
    "DATABASE = 'metrics.db'"
   ]
  },
  {
   "cell_type": "markdown",
   "id": "e9f2a50d",
   "metadata": {},
   "source": [
    "## Modify Data into Data Frame for plotting"
   ]
  },
  {
   "cell_type": "markdown",
   "id": "6d7ee413",
   "metadata": {},
   "source": [
    "## Boxplot Diagrams"
   ]
  }
 ],
 "metadata": {
  "kernelspec": {
   "display_name": "Python 3",
   "language": "python",
   "name": "python3"
  },
  "language_info": {
   "codemirror_mode": {
    "name": "ipython",
    "version": 3
   },
   "file_extension": ".py",
   "mimetype": "text/x-python",
   "name": "python",
   "nbconvert_exporter": "python",
   "pygments_lexer": "ipython3",
   "version": "3.9.6"
  }
 },
 "nbformat": 4,
 "nbformat_minor": 5
}
