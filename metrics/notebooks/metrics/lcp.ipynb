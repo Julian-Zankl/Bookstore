{
 "cells": [
  {
   "cell_type": "markdown",
   "id": "9add6df3",
   "metadata": {},
   "source": [
    "# Largest Contentful Paint"
   ]
  },
  {
   "cell_type": "markdown",
   "id": "71b377fc",
   "metadata": {},
   "source": [
    "## Imports"
   ]
  },
  {
   "cell_type": "code",
   "execution_count": null,
   "id": "bcabddf4",
   "metadata": {},
   "outputs": [],
   "source": [
    "import sys\n",
    "import os\n",
    "\n",
    "parent_dir = os.path.abspath(os.path.join(os.getcwd(), os.pardir))\n",
    "sys.path.append(parent_dir)\n",
    "\n",
    "import plotting_functions as plot"
   ]
  },
  {
   "cell_type": "markdown",
   "id": "608807c9",
   "metadata": {},
   "source": [
    "## Database Query"
   ]
  },
  {
   "cell_type": "code",
   "execution_count": null,
   "id": "4c080af0",
   "metadata": {},
   "outputs": [],
   "source": [
    "query = \"\"\"\n",
    "SELECT \n",
    "    page,\n",
    "    rendering_type,\n",
    "    throttling_method,\n",
    "    json_extract(report, '$.largestContentfulPaint') AS lcp\n",
    "FROM metrics\n",
    "WHERE report IS NOT NULL\n",
    "    AND json_extract(report, '$.largestContentfulPaint') IS NOT NULL\n",
    "    AND iteration_group = ?\n",
    "    AND throttling_method = ?\n",
    "\"\"\""
   ]
  },
  {
   "cell_type": "markdown",
   "id": "497e7255",
   "metadata": {},
   "source": [
    "## Visualization"
   ]
  },
  {
   "cell_type": "markdown",
   "id": "9535b48d",
   "metadata": {},
   "source": [
    "### 10 Iterations"
   ]
  },
  {
   "cell_type": "code",
   "execution_count": null,
   "id": "135e060e",
   "metadata": {},
   "outputs": [],
   "source": [
    "plot.combined(\"lcp\", \"simulate\", query, 10)\n",
    "plot.combined(\"lcp\", \"devtools\", query, 10)\n",
    "\n",
    "plot.table(\"lcp\", \"simulate\", query, 10)\n",
    "plot.table(\"lcp\", \"devtools\", query, 10)"
   ]
  },
  {
   "cell_type": "markdown",
   "id": "72a75f12",
   "metadata": {},
   "source": [
    "### 100 Iterations"
   ]
  },
  {
   "cell_type": "code",
   "execution_count": null,
   "id": "5869af03",
   "metadata": {},
   "outputs": [],
   "source": [
    "plot.combined(\"lcp\", \"simulate\", query, 100)\n",
    "plot.combined(\"lcp\", \"devtools\", query, 100)\n",
    "\n",
    "plot.table(\"lcp\", \"simulate\", query, 100)\n",
    "plot.table(\"lcp\", \"devtools\", query, 100)"
   ]
  },
  {
   "cell_type": "markdown",
   "id": "e876b029",
   "metadata": {},
   "source": [
    "### 1.000 Iterations"
   ]
  },
  {
   "cell_type": "code",
   "execution_count": null,
   "id": "6e61f2ef",
   "metadata": {},
   "outputs": [],
   "source": [
    "plot.combined(\"lcp\", \"simulate\", query, 1000)\n",
    "plot.combined(\"lcp\", \"devtools\", query, 1000)\n",
    "\n",
    "plot.table(\"lcp\", \"simulate\", query, 1000)\n",
    "plot.table(\"lcp\", \"devtools\", query, 1000)"
   ]
  }
 ],
 "metadata": {
  "kernelspec": {
   "display_name": "Python (metrics)",
   "language": "python",
   "name": "metrics"
  },
  "language_info": {
   "codemirror_mode": {
    "name": "ipython",
    "version": 3
   },
   "file_extension": ".py",
   "mimetype": "text/x-python",
   "name": "python",
   "nbconvert_exporter": "python",
   "pygments_lexer": "ipython3",
   "version": "3.12.0"
  }
 },
 "nbformat": 4,
 "nbformat_minor": 5
}
