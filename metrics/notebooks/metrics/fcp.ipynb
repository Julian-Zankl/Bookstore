{
 "cells": [
  {
   "cell_type": "markdown",
   "id": "9add6df3",
   "metadata": {},
   "source": [
    "# First Contentful Paint"
   ]
  },
  {
   "cell_type": "markdown",
   "id": "71b377fc",
   "metadata": {},
   "source": [
    "## Imports"
   ]
  },
  {
   "cell_type": "code",
   "execution_count": null,
   "id": "bcabddf4",
   "metadata": {},
   "outputs": [],
   "source": [
    "import sqlite3\n",
    "import pandas as pd\n",
    "import matplotlib.pyplot as plt\n",
    "import seaborn as sns"
   ]
  },
  {
   "cell_type": "markdown",
   "id": "608807c9",
   "metadata": {},
   "source": [
    "## Database Query"
   ]
  },
  {
   "cell_type": "code",
   "execution_count": null,
   "id": "4c080af0",
   "metadata": {},
   "outputs": [],
   "source": [
    "query = \"\"\"\n",
    "SELECT \n",
    "    page,\n",
    "    rendering_type,\n",
    "    json_extract(report, '$.firstContentfulPaint') / 1000.0 AS fcp\n",
    "FROM metrics\n",
    "WHERE report IS NOT NULL\n",
    "    AND json_extract(report, '$.firstContentfulPaint') IS NOT NULL\n",
    "    AND iteration_group = ?\n",
    "\"\"\""
   ]
  },
  {
   "cell_type": "markdown",
   "id": "a4a955da",
   "metadata": {},
   "source": [
    "## Visualizuation - Table"
   ]
  },
  {
   "cell_type": "code",
   "execution_count": null,
   "id": "76a9147b",
   "metadata": {},
   "outputs": [],
   "source": [
    "summary = df.groupby(\"rendering_type\")[\"fcp\"].agg([\"mean\", \"std\", \"min\", \"max\"]).round(2)\n",
    "display(summary)"
   ]
  },
  {
   "cell_type": "markdown",
   "id": "0a2fe33d",
   "metadata": {},
   "source": [
    "## Helper Functions - Plots"
   ]
  },
  {
   "cell_type": "code",
   "execution_count": null,
   "id": "0ed8130c",
   "metadata": {},
   "outputs": [],
   "source": [
    "def plot_boxplot(iteration_group: int):\n",
    "    conn = sqlite3.connect(\"../../metrics.db\")\n",
    "    df = pd.read_sql_query(query, conn, params=(iteration_group,))\n",
    "    conn.close()\n",
    "\n",
    "    if df.empty:\n",
    "        print(f\"No data found for iteration group {iteration_group}\")\n",
    "        return\n",
    "\n",
    "    plt.figure(figsize=(10, 6))\n",
    "    sns.boxplot(x=\"page\", y=\"fcp\", hue=\"rendering_type\", data=df, legend=False)\n",
    "    plt.title(f\"First Contentful Paint pro Page ({iteration_group} Iterationen)\")\n",
    "    plt.xlabel(\"Page\")\n",
    "    plt.ylabel(\"Zeit in s\")\n",
    "    plt.grid(True)\n",
    "    plt.tight_layout()\n",
    "    plt.show()\n",
    "    \n",
    "def plot_table(iteration_group: int):\n",
    "    conn = sqlite3.connect(\"../../metrics.db\")\n",
    "    df = pd.read_sql_query(query, conn, params=(iteration_group,))\n",
    "    conn.close()\n",
    "    \n",
    "    summary = df.groupby(\"rendering_type\")[\"fcp\"].agg([\"mean\", \"std\", \"min\", \"max\"]).round(2)\n",
    "    display(summary)"
   ]
  },
  {
   "cell_type": "markdown",
   "id": "497e7255",
   "metadata": {},
   "source": [
    "## Visualization"
   ]
  },
  {
   "cell_type": "markdown",
   "id": "9535b48d",
   "metadata": {},
   "source": [
    "### 10 Iterations"
   ]
  },
  {
   "cell_type": "code",
   "execution_count": null,
   "id": "135e060e",
   "metadata": {},
   "outputs": [],
   "source": [
    "plot_table(1)\n",
    "plot_boxplot(1)"
   ]
  },
  {
   "cell_type": "markdown",
   "id": "72a75f12",
   "metadata": {},
   "source": [
    "### 100 Iterations"
   ]
  },
  {
   "cell_type": "code",
   "execution_count": null,
   "id": "5869af03",
   "metadata": {},
   "outputs": [],
   "source": [
    "plot_table(100)\n",
    "plot_boxplot(100)"
   ]
  },
  {
   "cell_type": "markdown",
   "id": "e876b029",
   "metadata": {},
   "source": [
    "### 1.000 Iterations"
   ]
  },
  {
   "cell_type": "code",
   "execution_count": null,
   "id": "6e61f2ef",
   "metadata": {},
   "outputs": [],
   "source": [
    "plot_table(1000)\n",
    "plot_boxplot(1000)"
   ]
  }
 ],
 "metadata": {
  "kernelspec": {
   "display_name": "Python (metrics)",
   "language": "python",
   "name": "metrics"
  },
  "language_info": {
   "codemirror_mode": {
    "name": "ipython",
    "version": 3
   },
   "file_extension": ".py",
   "mimetype": "text/x-python",
   "name": "python",
   "nbconvert_exporter": "python",
   "pygments_lexer": "ipython3",
   "version": "3.12.0"
  }
 },
 "nbformat": 4,
 "nbformat_minor": 5
}
