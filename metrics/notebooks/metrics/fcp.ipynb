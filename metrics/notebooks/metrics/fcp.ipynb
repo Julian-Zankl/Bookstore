{
 "cells": [
  {
   "cell_type": "markdown",
   "id": "9add6df3",
   "metadata": {},
   "source": [
    "# First Contentful Paint"
   ]
  },
  {
   "cell_type": "markdown",
   "id": "71b377fc",
   "metadata": {},
   "source": [
    "## Imports"
   ]
  },
  {
   "cell_type": "code",
   "execution_count": 2,
   "id": "bcabddf4",
   "metadata": {},
   "outputs": [],
   "source": [
    "import sqlite3\n",
    "import pandas as pd\n",
    "import matplotlib.pyplot as plt\n",
    "import seaborn as sns"
   ]
  },
  {
   "cell_type": "markdown",
   "id": "608807c9",
   "metadata": {},
   "source": [
    "## Database Query"
   ]
  },
  {
   "cell_type": "code",
   "execution_count": 3,
   "id": "4c080af0",
   "metadata": {},
   "outputs": [],
   "source": [
    "query = \"\"\"\n",
    "SELECT \n",
    "    page,\n",
    "    rendering_type,\n",
    "    json_extract(report, '$.firstContentfulPaint') AS fcp\n",
    "FROM metrics\n",
    "WHERE report IS NOT NULL\n",
    "    AND json_extract(report, '$.firstContentfulPaint') IS NOT NULL\n",
    "    AND iteration_group = ?\n",
    "\"\"\""
   ]
  },
  {
   "cell_type": "markdown",
   "id": "0a2fe33d",
   "metadata": {},
   "source": [
    "## Helper Functions - Plots"
   ]
  },
  {
   "cell_type": "code",
   "execution_count": 4,
   "id": "0ed8130c",
   "metadata": {},
   "outputs": [],
   "source": [
    "def plot_boxplot(iteration_group: int):\n",
    "    conn = sqlite3.connect(\"../../metrics.db\")\n",
    "    df = pd.read_sql_query(query, conn, params=(iteration_group,))\n",
    "    conn.close()\n",
    "\n",
    "    if df.empty:\n",
    "        print(f\"No data found for iteration group {iteration_group}\")\n",
    "        return\n",
    "\n",
    "    plt.figure(figsize=(10, 6))\n",
    "    sns.boxplot(x=\"page\", y=\"fcp\", hue=\"rendering_type\", data=df, legend=False)\n",
    "    plt.title(f\"First Contentful Paint - {iteration_group} Iterationen\")\n",
    "    plt.xlabel(\"Page\")\n",
    "    plt.ylabel(\"Zeit in s\")\n",
    "    plt.grid(True)\n",
    "    plt.tight_layout()\n",
    "    plt.show()\n",
    "    \n",
    "def plot_table(iteration_group: int):\n",
    "    conn = sqlite3.connect(\"../../metrics.db\")\n",
    "    df = pd.read_sql_query(query, conn, params=(iteration_group,))\n",
    "    conn.close()\n",
    "    \n",
    "    summary = df.groupby(\"rendering_type\")[\"fcp\"].agg([\"mean\", \"std\", \"min\", \"max\"]).round(2)\n",
    "    display(summary)"
   ]
  },
  {
   "cell_type": "markdown",
   "id": "497e7255",
   "metadata": {},
   "source": [
    "## Visualization"
   ]
  },
  {
   "cell_type": "markdown",
   "id": "9535b48d",
   "metadata": {},
   "source": [
    "### 10 Iterations"
   ]
  },
  {
   "cell_type": "code",
   "execution_count": 7,
   "id": "135e060e",
   "metadata": {},
   "outputs": [
    {
     "data": {
      "text/html": [
       "<div>\n",
       "<style scoped>\n",
       "    .dataframe tbody tr th:only-of-type {\n",
       "        vertical-align: middle;\n",
       "    }\n",
       "\n",
       "    .dataframe tbody tr th {\n",
       "        vertical-align: top;\n",
       "    }\n",
       "\n",
       "    .dataframe thead th {\n",
       "        text-align: right;\n",
       "    }\n",
       "</style>\n",
       "<table border=\"1\" class=\"dataframe\">\n",
       "  <thead>\n",
       "    <tr style=\"text-align: right;\">\n",
       "      <th></th>\n",
       "      <th>mean</th>\n",
       "      <th>std</th>\n",
       "      <th>min</th>\n",
       "      <th>max</th>\n",
       "    </tr>\n",
       "    <tr>\n",
       "      <th>rendering_type</th>\n",
       "      <th></th>\n",
       "      <th></th>\n",
       "      <th></th>\n",
       "      <th></th>\n",
       "    </tr>\n",
       "  </thead>\n",
       "  <tbody>\n",
       "    <tr>\n",
       "      <th>CSR</th>\n",
       "      <td>3040.65</td>\n",
       "      <td>9.68</td>\n",
       "      <td>3029.59</td>\n",
       "      <td>3052.62</td>\n",
       "    </tr>\n",
       "    <tr>\n",
       "      <th>SSR</th>\n",
       "      <td>1242.48</td>\n",
       "      <td>14.50</td>\n",
       "      <td>1234.87</td>\n",
       "      <td>1268.37</td>\n",
       "    </tr>\n",
       "  </tbody>\n",
       "</table>\n",
       "</div>"
      ],
      "text/plain": [
       "                   mean    std      min      max\n",
       "rendering_type                                  \n",
       "CSR             3040.65   9.68  3029.59  3052.62\n",
       "SSR             1242.48  14.50  1234.87  1268.37"
      ]
     },
     "metadata": {},
     "output_type": "display_data"
    },
    {
     "data": {
      "image/png": "[encoded data removed]",
      "text/plain": [
       "<Figure size 1000x600 with 1 Axes>"
      ]
     },
     "metadata": {},
     "output_type": "display_data"
    }
   ],
   "source": [
    "plot_table(5)\n",
    "plot_boxplot(5)"
   ]
  },
  {
   "cell_type": "markdown",
   "id": "72a75f12",
   "metadata": {},
   "source": [
    "### 100 Iterations"
   ]
  },
  {
   "cell_type": "code",
   "execution_count": null,
   "id": "5869af03",
   "metadata": {},
   "outputs": [],
   "source": [
    "plot_table(100)\n",
    "plot_boxplot(100)"
   ]
  },
  {
   "cell_type": "markdown",
   "id": "e876b029",
   "metadata": {},
   "source": [
    "### 1.000 Iterations"
   ]
  },
  {
   "cell_type": "code",
   "execution_count": 5,
   "id": "6e61f2ef",
   "metadata": {},
   "outputs": [
    {
     "data": {
      "text/html": [
       "<div>\n",
       "<style scoped>\n",
       "    .dataframe tbody tr th:only-of-type {\n",
       "        vertical-align: middle;\n",
       "    }\n",
       "\n",
       "    .dataframe tbody tr th {\n",
       "        vertical-align: top;\n",
       "    }\n",
       "\n",
       "    .dataframe thead th {\n",
       "        text-align: right;\n",
       "    }\n",
       "</style>\n",
       "<table border=\"1\" class=\"dataframe\">\n",
       "  <thead>\n",
       "    <tr style=\"text-align: right;\">\n",
       "      <th></th>\n",
       "      <th>mean</th>\n",
       "      <th>std</th>\n",
       "      <th>min</th>\n",
       "      <th>max</th>\n",
       "    </tr>\n",
       "    <tr>\n",
       "      <th>rendering_type</th>\n",
       "      <th></th>\n",
       "      <th></th>\n",
       "      <th></th>\n",
       "      <th></th>\n",
       "    </tr>\n",
       "  </thead>\n",
       "  <tbody>\n",
       "    <tr>\n",
       "      <th>CSR</th>\n",
       "      <td>2400.14</td>\n",
       "      <td>0.05</td>\n",
       "      <td>2400.0</td>\n",
       "      <td>2400.74</td>\n",
       "    </tr>\n",
       "    <tr>\n",
       "      <th>SSR</th>\n",
       "      <td>2551.64</td>\n",
       "      <td>23.72</td>\n",
       "      <td>1052.1</td>\n",
       "      <td>2555.45</td>\n",
       "    </tr>\n",
       "  </tbody>\n",
       "</table>\n",
       "</div>"
      ],
      "text/plain": [
       "                   mean    std     min      max\n",
       "rendering_type                                 \n",
       "CSR             2400.14   0.05  2400.0  2400.74\n",
       "SSR             2551.64  23.72  1052.1  2555.45"
      ]
     },
     "metadata": {},
     "output_type": "display_data"
    },
    {
     "data": {
      "image/png": "[encoded data removed]",
      "text/plain": [
       "<Figure size 1000x600 with 1 Axes>"
      ]
     },
     "metadata": {},
     "output_type": "display_data"
    }
   ],
   "source": [
    "plot_table(1000)\n",
    "plot_boxplot(1000)"
   ]
  }
 ],
 "metadata": {
  "kernelspec": {
   "display_name": "Python (metrics)",
   "language": "python",
   "name": "metrics"
  },
  "language_info": {
   "codemirror_mode": {
    "name": "ipython",
    "version": 3
   },
   "file_extension": ".py",
   "mimetype": "text/x-python",
   "name": "python",
   "nbconvert_exporter": "python",
   "pygments_lexer": "ipython3",
   "version": "3.12.0"
  }
 },
 "nbformat": 4,
 "nbformat_minor": 5
}
