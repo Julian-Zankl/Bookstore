{
 "cells": [
  {
   "cell_type": "markdown",
   "id": "9add6df3",
   "metadata": {},
   "source": [
    "# First Contentful Paint"
   ]
  },
  {
   "cell_type": "markdown",
   "id": "71b377fc",
   "metadata": {},
   "source": [
    "## Imports"
   ]
  },
  {
   "cell_type": "code",
   "execution_count": null,
   "id": "bcabddf4",
   "metadata": {
    "vscode": {
     "languageId": "plaintext"
    }
   },
   "outputs": [],
   "source": [
    "import sqlite3\n",
    "import pandas as pd\n",
    "import matplotlib.pyplot as plt\n",
    "import seaborn as sns"
   ]
  },
  {
   "cell_type": "markdown",
   "id": "adc18153",
   "metadata": {},
   "source": [
    "## Database Connection"
   ]
  },
  {
   "cell_type": "code",
   "execution_count": null,
   "id": "ac3446ba",
   "metadata": {
    "vscode": {
     "languageId": "plaintext"
    }
   },
   "outputs": [],
   "source": [
    "conn = sqlite3.connect(\"../../metrics.db\")"
   ]
  },
  {
   "cell_type": "markdown",
   "id": "608807c9",
   "metadata": {},
   "source": [
    "## Database Query"
   ]
  },
  {
   "cell_type": "code",
   "execution_count": null,
   "id": "4c080af0",
   "metadata": {
    "vscode": {
     "languageId": "plaintext"
    }
   },
   "outputs": [],
   "source": [
    "query = \"\"\"\n",
    "SELECT \n",
    "    rendering_type,\n",
    "    json_extract(report, '$.audits.first-contentful-paint.numericValue') AS fcp_ms,\n",
    "    json_extract(report, '$.lhr.requestedUrl') AS url,\n",
    "    timestamp\n",
    "FROM metrics\n",
    "WHERE report IS NOT NULL\n",
    "  AND json_extract(report, '$.audits.first-contentful-paint.numericValue') IS NOT NULL\n",
    "\"\"\""
   ]
  },
  {
   "cell_type": "markdown",
   "id": "24843958",
   "metadata": {},
   "source": [
    "## Read SQL Query into DataFrame"
   ]
  },
  {
   "cell_type": "code",
   "execution_count": null,
   "id": "45ec8ef9",
   "metadata": {
    "vscode": {
     "languageId": "plaintext"
    }
   },
   "outputs": [],
   "source": [
    "df = pd.read_sql_query(query, conn)\n",
    "print(df.head())"
   ]
  },
  {
   "cell_type": "markdown",
   "id": "3836ae83",
   "metadata": {},
   "source": [
    "## Convert Milliseconds to Seconds"
   ]
  },
  {
   "cell_type": "code",
   "execution_count": null,
   "id": "48961083",
   "metadata": {
    "vscode": {
     "languageId": "plaintext"
    }
   },
   "outputs": [],
   "source": [
    "df[\"fcp_s\"] = df[\"fcp_ms\"] / 1000.0"
   ]
  },
  {
   "cell_type": "markdown",
   "id": "a4a955da",
   "metadata": {},
   "source": [
    "## Visualizuation - Table"
   ]
  },
  {
   "cell_type": "code",
   "execution_count": null,
   "id": "76a9147b",
   "metadata": {
    "vscode": {
     "languageId": "plaintext"
    }
   },
   "outputs": [],
   "source": [
    "summary = df.groupby(\"rendering_type\")[\"fcp_s\"].agg([\"mean\", \"std\", \"min\", \"max\"]).round(2)\n",
    "display(summary)"
   ]
  },
  {
   "cell_type": "markdown",
   "id": "497e7255",
   "metadata": {},
   "source": [
    "## Visualization - Boxplot"
   ]
  },
  {
   "cell_type": "code",
   "execution_count": null,
   "id": "135e060e",
   "metadata": {
    "vscode": {
     "languageId": "plaintext"
    }
   },
   "outputs": [],
   "source": [
    "plt.figure(figsize=(10, 6))\n",
    "sns.boxplot(x=\"rendering_type\", y=\"fcp_s\", data=df, palette=\"Set2\")\n",
    "plt.title(\"First Contentful Paint (FCP) by Rendering Type\")\n",
    "plt.ylabel(\"FCP (seconds)\")\n",
    "plt.xlabel(\"Rendering Type\")\n",
    "plt.grid(True)\n",
    "plt.tight_layout()\n",
    "plt.show()"
   ]
  }
 ],
 "metadata": {
  "language_info": {
   "name": "python"
  }
 },
 "nbformat": 4,
 "nbformat_minor": 5
}
