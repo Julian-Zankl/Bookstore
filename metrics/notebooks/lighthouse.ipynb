{
 "cells": [
  {
   "cell_type": "markdown",
   "id": "d73a9639",
   "metadata": {},
   "source": [
    "# Bookstore Metrics"
   ]
  },
  {
   "cell_type": "markdown",
   "id": "396aa22f",
   "metadata": {},
   "source": [
    "## Imports"
   ]
  },
  {
   "cell_type": "code",
   "execution_count": 1,
   "id": "6d05c0fe",
   "metadata": {},
   "outputs": [],
   "source": [
    "import subprocess\n",
    "import time\n",
    "import os\n",
    "os.environ[\"PATH\"] = \"/usr/local/bin:\" + os.environ[\"PATH\"]"
   ]
  },
  {
   "cell_type": "markdown",
   "id": "a836f3d0",
   "metadata": {},
   "source": [
    "## Configuration"
   ]
  },
  {
   "cell_type": "code",
   "execution_count": 2,
   "id": "c31a859a",
   "metadata": {},
   "outputs": [],
   "source": [
    "apps = {\n",
    "    \"csr\": \"http://csr\",\n",
    "    \"ssr\": \"http://ssr\"\n",
    "}\n",
    "\n",
    "pages = [\n",
    "    \"books\",\n",
    "    \"orders\",\n",
    "    \"cart\",\n",
    "    \"success\"\n",
    "]\n",
    "\n",
    "\n",
    "iterations = [1, 1000, 10000]"
   ]
  },
  {
   "cell_type": "markdown",
   "id": "9c4365ff",
   "metadata": {},
   "source": [
    "## Lighthouse Script"
   ]
  },
  {
   "cell_type": "code",
   "execution_count": 3,
   "id": "3ef948c3",
   "metadata": {},
   "outputs": [],
   "source": [
    "def run_lighthouse(app, page, iterations):\n",
    "    print(f\"Running {iterations} iterations for {app.upper()} - /{page}\")\n",
    "    target_url = f\"{app}/{page}\"\n",
    "    \n",
    "    for i in range(iterations):\n",
    "        print(f\"Running Lighthouse for {target_url} (Iteration {i+1} of {iterations})\")\n",
    "        env = {\n",
    "            \"TARGET_URL\": target_url,\n",
    "            \"HOST_OS\": \"macOS\",\n",
    "            \"METRICS_API\": \"http://metrics:3001/api/metrics\",\n",
    "            \"RENDERING_TYPE\": app.upper()\n",
    "        }\n",
    "\n",
    "        try:\n",
    "            subprocess.run(\n",
    "                [\n",
    "                    \"docker\", \"compose\", \"exec\", \"-T\", \"lighthouse\", \"npm\", \"run\", \"start\"\n",
    "                ],\n",
    "                check=True\n",
    "            )\n",
    "            print(\"Lighthouse run completed.\")\n",
    "        except subprocess.CalledProcessError as e:\n",
    "            print(f\"Error: {e}\")\n",
    "        time.sleep(1)"
   ]
  },
  {
   "cell_type": "markdown",
   "id": "efefe9e4",
   "metadata": {},
   "source": [
    "## Testing - 1 iteration"
   ]
  },
  {
   "cell_type": "code",
   "execution_count": 4,
   "id": "58e17b23",
   "metadata": {},
   "outputs": [
    {
     "name": "stdout",
     "output_type": "stream",
     "text": [
      "Running 1 iterations for CSR - /books\n",
      "Running Lighthouse for csr/books (Iteration 1 of 1)\n",
      "Error: Command '['docker', 'compose', 'exec', '-T', 'lighthouse', 'npm', 'run', 'start']' returned non-zero exit status 255.\n"
     ]
    },
    {
     "name": "stderr",
     "output_type": "stream",
     "text": [
      "exec /usr/local/bin/npm: exec format error\n",
      "\n"
     ]
    }
   ],
   "source": [
    "run_lighthouse(\"csr\", \"books\", 1)"
   ]
  },
  {
   "cell_type": "markdown",
   "id": "116fa6fa",
   "metadata": {},
   "source": [
    "## 100 Iterations"
   ]
  },
  {
   "cell_type": "code",
   "execution_count": null,
   "id": "294e73a3",
   "metadata": {},
   "outputs": [],
   "source": [
    "for app in apps:\n",
    "    for page in pages:\n",
    "        run_lighthouse(app, page, iterations[0])"
   ]
  },
  {
   "cell_type": "markdown",
   "id": "043911c3",
   "metadata": {},
   "source": [
    "## Run everything"
   ]
  },
  {
   "cell_type": "code",
   "execution_count": null,
   "id": "f629d98d",
   "metadata": {},
   "outputs": [],
   "source": [
    "for app in apps:\n",
    "    for page in pages:\n",
    "        for n in iterations:\n",
    "            run_lighthouse(app, page, n)"
   ]
  }
 ],
 "metadata": {
  "kernelspec": {
   "display_name": "metrics",
   "language": "python",
   "name": "metrics"
  },
  "language_info": {
   "codemirror_mode": {
    "name": "ipython",
    "version": 3
   },
   "file_extension": ".py",
   "mimetype": "text/x-python",
   "name": "python",
   "nbconvert_exporter": "python",
   "pygments_lexer": "ipython3",
   "version": "3.9.6"
  }
 },
 "nbformat": 4,
 "nbformat_minor": 5
}
