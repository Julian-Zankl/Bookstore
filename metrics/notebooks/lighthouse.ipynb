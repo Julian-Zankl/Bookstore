{
 "cells": [
  {
   "cell_type": "markdown",
   "id": "d73a9639",
   "metadata": {},
   "source": [
    "# Bookstore Metrics"
   ]
  },
  {
   "cell_type": "markdown",
   "id": "396aa22f",
   "metadata": {},
   "source": [
    "## Imports"
   ]
  },
  {
   "cell_type": "code",
   "execution_count": null,
   "id": "6d05c0fe",
   "metadata": {},
   "outputs": [],
   "source": [
    "import platform\n",
    "import subprocess\n",
    "#import os\n",
    "#os.environ[\"PATH\"] = \"/usr/local/bin:\" + os.environ[\"PATH\"]"
   ]
  },
  {
   "cell_type": "markdown",
   "id": "a836f3d0",
   "metadata": {},
   "source": [
    "## Configuration"
   ]
  },
  {
   "cell_type": "code",
   "execution_count": null,
   "id": "c31a859a",
   "metadata": {},
   "outputs": [],
   "source": [
    "apps = {\n",
    "    \"csr\": \"http://csr\",\n",
    "    \"ssr\": \"http://ssr\"\n",
    "}\n",
    "\n",
    "pages = [\n",
    "    \"books\",\n",
    "    \"orders\",\n",
    "    \"cart\",\n",
    "    \"success\"\n",
    "]\n",
    "\n",
    "\n",
    "iterations = [100, 1000, 10000]"
   ]
  },
  {
   "cell_type": "markdown",
   "id": "94f9e2ab",
   "metadata": {},
   "source": [
    "## Operating System Script"
   ]
  },
  {
   "cell_type": "code",
   "execution_count": null,
   "id": "6bc53cd9",
   "metadata": {},
   "outputs": [],
   "source": [
    "def get_host_os():\n",
    "    system = platform.system()\n",
    "    if system == \"Windows\":\n",
    "        return \"Windows\"\n",
    "    elif system == \"Darwin\":\n",
    "        return \"macOS\"\n",
    "    elif system == \"Linux\":\n",
    "        return \"Linux\"\n",
    "    else:\n",
    "        return \"Unknown\""
   ]
  },
  {
   "cell_type": "markdown",
   "id": "9c4365ff",
   "metadata": {},
   "source": [
    "## Lighthouse Script"
   ]
  },
  {
   "cell_type": "code",
   "execution_count": null,
   "id": "3ef948c3",
   "metadata": {},
   "outputs": [],
   "source": [
    "def run_lighthouse(app, page, iterations):\n",
    "    print(f\"Running {iterations} iterations for {app.upper()} - /{page}\")\n",
    "    \n",
    "    host_os = get_host_os()\n",
    "    target_url = f\"{apps[app]}/{page}\"\n",
    "    rendering_type = app.upper()\n",
    "    \n",
    "    for i in range(iterations):\n",
    "        print(f\"Running Lighthouse for {target_url} (Iteration {i+1} of {iterations})\")\n",
    "        try:\n",
    "            subprocess.run(\n",
    "                [\n",
    "                    \"docker\", \"compose\", \"exec\", \"-T\", \"lighthouse\",\n",
    "                    \"run\", target_url, rendering_type, host_os\n",
    "                ],\n",
    "                check=True\n",
    "            )\n",
    "            print(\"Lighthouse run completed.\")\n",
    "        except subprocess.CalledProcessError as e:\n",
    "            print(f\"Error: {e}\")"
   ]
  },
  {
   "cell_type": "markdown",
   "id": "efefe9e4",
   "metadata": {},
   "source": [
    "## Testing - 1 iteration"
   ]
  },
  {
   "cell_type": "code",
   "execution_count": null,
   "id": "58e17b23",
   "metadata": {},
   "outputs": [],
   "source": [
    "run_lighthouse(\"csr\", \"books\", 1)"
   ]
  },
  {
   "cell_type": "markdown",
   "id": "116fa6fa",
   "metadata": {},
   "source": [
    "## 100 Iterations"
   ]
  },
  {
   "cell_type": "code",
   "execution_count": null,
   "id": "294e73a3",
   "metadata": {},
   "outputs": [],
   "source": [
    "for app in apps:\n",
    "    for page in pages:\n",
    "        run_lighthouse(app, page, iterations[0])"
   ]
  },
  {
   "cell_type": "markdown",
   "id": "78ddd979",
   "metadata": {},
   "source": [
    "## 1.000 Iterations"
   ]
  },
  {
   "cell_type": "code",
   "execution_count": null,
   "id": "e0f8a8c2",
   "metadata": {},
   "outputs": [],
   "source": [
    "for app in apps:\n",
    "    for page in pages:\n",
    "        run_lighthouse(app, page, iterations[1])"
   ]
  },
  {
   "cell_type": "markdown",
   "id": "019b2d9c",
   "metadata": {},
   "source": [
    "## 10.000 iterations"
   ]
  },
  {
   "cell_type": "code",
   "execution_count": null,
   "id": "b45718bb",
   "metadata": {},
   "outputs": [],
   "source": [
    "for app in apps:\n",
    "    for page in pages:\n",
    "        run_lighthouse(app, page, iterations[2])"
   ]
  },
  {
   "cell_type": "markdown",
   "id": "043911c3",
   "metadata": {},
   "source": [
    "## Run everything"
   ]
  },
  {
   "cell_type": "code",
   "execution_count": null,
   "id": "f629d98d",
   "metadata": {},
   "outputs": [],
   "source": [
    "for app in apps:\n",
    "    for page in pages:\n",
    "        for n in iterations:\n",
    "            run_lighthouse(app, page, n)"
   ]
  }
 ],
 "metadata": {
  "kernelspec": {
   "display_name": "Python (metrics)",
   "language": "python",
   "name": "metrics"
  },
  "language_info": {
   "codemirror_mode": {
    "name": "ipython",
    "version": 3
   },
   "file_extension": ".py",
   "mimetype": "text/x-python",
   "name": "python",
   "nbconvert_exporter": "python",
   "pygments_lexer": "ipython3",
   "version": "3.12.0"
  }
 },
 "nbformat": 4,
 "nbformat_minor": 5
}
