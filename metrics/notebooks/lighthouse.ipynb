{
 "cells": [
  {
   "cell_type": "markdown",
   "id": "d73a9639",
   "metadata": {},
   "source": [
    "# Bookstore Metrics"
   ]
  },
  {
   "cell_type": "markdown",
   "id": "396aa22f",
   "metadata": {},
   "source": [
    "## Imports"
   ]
  },
  {
   "cell_type": "code",
   "execution_count": 1,
   "id": "6d05c0fe",
   "metadata": {},
   "outputs": [],
   "source": [
    "import platform\n",
    "import subprocess\n",
    "#import os\n",
    "#os.environ[\"PATH\"] = \"/usr/local/bin:\" + os.environ[\"PATH\"]"
   ]
  },
  {
   "cell_type": "markdown",
   "id": "a836f3d0",
   "metadata": {},
   "source": [
    "## Configuration"
   ]
  },
  {
   "cell_type": "code",
   "execution_count": 2,
   "id": "c31a859a",
   "metadata": {},
   "outputs": [],
   "source": [
    "apps = {\n",
    "    \"csr\": \"http://csr\",\n",
    "    \"ssr\": \"http://ssr\"\n",
    "}\n",
    "\n",
    "pages = [\n",
    "    \"books\",\n",
    "    \"orders\",\n",
    "    \"cart\",\n",
    "    \"success\"\n",
    "]\n",
    "\n",
    "\n",
    "iterations = [10, 100, 1000]"
   ]
  },
  {
   "cell_type": "markdown",
   "id": "94f9e2ab",
   "metadata": {},
   "source": [
    "## Operating System Script"
   ]
  },
  {
   "cell_type": "code",
   "execution_count": 3,
   "id": "6bc53cd9",
   "metadata": {},
   "outputs": [],
   "source": [
    "def get_host_os():\n",
    "    system = platform.system()\n",
    "    if system == \"Windows\":\n",
    "        return \"Windows\"\n",
    "    elif system == \"Darwin\":\n",
    "        return \"macOS\"\n",
    "    elif system == \"Linux\":\n",
    "        return \"Linux\"\n",
    "    else:\n",
    "        return \"Unknown\""
   ]
  },
  {
   "cell_type": "markdown",
   "id": "9c4365ff",
   "metadata": {},
   "source": [
    "## Lighthouse Script"
   ]
  },
  {
   "cell_type": "code",
   "execution_count": null,
   "id": "3ef948c3",
   "metadata": {},
   "outputs": [],
   "source": [
    "def run_lighthouse(app, page, iterations):\n",
    "    print(f\"Running {iterations} iterations for {app.upper()} - /{page}\")\n",
    "    \n",
    "    host_os = get_host_os()\n",
    "    target_url = f\"{apps[app]}/{page}\"\n",
    "    rendering_type = app.upper()\n",
    "    \n",
    "    for i in range(iterations):\n",
    "        print(f\"Running Lighthouse for {target_url} (Iteration {i+1} of {iterations})\")\n",
    "        try:\n",
    "            subprocess.run(\n",
    "                [\n",
    "                    \"docker\", \"compose\", \"exec\", \"-T\", \"lighthouse\",\n",
    "                    \"run\", target_url, rendering_type, host_os, str(iterations), page\n",
    "                ],\n",
    "                check=True\n",
    "            )\n",
    "            print(\"Lighthouse run completed.\")\n",
    "        except subprocess.CalledProcessError as e:\n",
    "            print(f\"Error: {e}\")"
   ]
  },
  {
   "cell_type": "markdown",
   "id": "efefe9e4",
   "metadata": {},
   "source": [
    "## Testing - 1 iteration"
   ]
  },
  {
   "cell_type": "code",
   "execution_count": 5,
   "id": "58e17b23",
   "metadata": {},
   "outputs": [
    {
     "name": "stdout",
     "output_type": "stream",
     "text": [
      "Running 1 iterations for CSR - /books\n",
      "Running Lighthouse for http://csr/books (Iteration 1 of 1)\n"
     ]
    },
    {
     "ename": "TypeError",
     "evalue": "expected str, bytes or os.PathLike object, not int",
     "output_type": "error",
     "traceback": [
      "\u001b[31m---------------------------------------------------------------------------\u001b[39m",
      "\u001b[31mTypeError\u001b[39m                                 Traceback (most recent call last)",
      "\u001b[36mCell\u001b[39m\u001b[36m \u001b[39m\u001b[32mIn[5]\u001b[39m\u001b[32m, line 1\u001b[39m\n\u001b[32m----> \u001b[39m\u001b[32m1\u001b[39m \u001b[43mrun_lighthouse\u001b[49m\u001b[43m(\u001b[49m\u001b[33;43m\"\u001b[39;49m\u001b[33;43mcsr\u001b[39;49m\u001b[33;43m\"\u001b[39;49m\u001b[43m,\u001b[49m\u001b[43m \u001b[49m\u001b[33;43m\"\u001b[39;49m\u001b[33;43mbooks\u001b[39;49m\u001b[33;43m\"\u001b[39;49m\u001b[43m,\u001b[49m\u001b[43m \u001b[49m\u001b[32;43m1\u001b[39;49m\u001b[43m)\u001b[49m\n",
      "\u001b[36mCell\u001b[39m\u001b[36m \u001b[39m\u001b[32mIn[4]\u001b[39m\u001b[32m, line 11\u001b[39m, in \u001b[36mrun_lighthouse\u001b[39m\u001b[34m(app, page, iterations)\u001b[39m\n\u001b[32m      9\u001b[39m \u001b[38;5;28mprint\u001b[39m(\u001b[33mf\u001b[39m\u001b[33m\"\u001b[39m\u001b[33mRunning Lighthouse for \u001b[39m\u001b[38;5;132;01m{\u001b[39;00mtarget_url\u001b[38;5;132;01m}\u001b[39;00m\u001b[33m (Iteration \u001b[39m\u001b[38;5;132;01m{\u001b[39;00mi+\u001b[32m1\u001b[39m\u001b[38;5;132;01m}\u001b[39;00m\u001b[33m of \u001b[39m\u001b[38;5;132;01m{\u001b[39;00miterations\u001b[38;5;132;01m}\u001b[39;00m\u001b[33m)\u001b[39m\u001b[33m\"\u001b[39m)\n\u001b[32m     10\u001b[39m \u001b[38;5;28;01mtry\u001b[39;00m:\n\u001b[32m---> \u001b[39m\u001b[32m11\u001b[39m     \u001b[43msubprocess\u001b[49m\u001b[43m.\u001b[49m\u001b[43mrun\u001b[49m\u001b[43m(\u001b[49m\n\u001b[32m     12\u001b[39m \u001b[43m        \u001b[49m\u001b[43m[\u001b[49m\n\u001b[32m     13\u001b[39m \u001b[43m            \u001b[49m\u001b[33;43m\"\u001b[39;49m\u001b[33;43mdocker\u001b[39;49m\u001b[33;43m\"\u001b[39;49m\u001b[43m,\u001b[49m\u001b[43m \u001b[49m\u001b[33;43m\"\u001b[39;49m\u001b[33;43mcompose\u001b[39;49m\u001b[33;43m\"\u001b[39;49m\u001b[43m,\u001b[49m\u001b[43m \u001b[49m\u001b[33;43m\"\u001b[39;49m\u001b[33;43mexec\u001b[39;49m\u001b[33;43m\"\u001b[39;49m\u001b[43m,\u001b[49m\u001b[43m \u001b[49m\u001b[33;43m\"\u001b[39;49m\u001b[33;43m-T\u001b[39;49m\u001b[33;43m\"\u001b[39;49m\u001b[43m,\u001b[49m\u001b[43m \u001b[49m\u001b[33;43m\"\u001b[39;49m\u001b[33;43mlighthouse\u001b[39;49m\u001b[33;43m\"\u001b[39;49m\u001b[43m,\u001b[49m\n\u001b[32m     14\u001b[39m \u001b[43m            \u001b[49m\u001b[33;43m\"\u001b[39;49m\u001b[33;43mrun\u001b[39;49m\u001b[33;43m\"\u001b[39;49m\u001b[43m,\u001b[49m\u001b[43m \u001b[49m\u001b[43mtarget_url\u001b[49m\u001b[43m,\u001b[49m\u001b[43m \u001b[49m\u001b[43mrendering_type\u001b[49m\u001b[43m,\u001b[49m\u001b[43m \u001b[49m\u001b[43mhost_os\u001b[49m\u001b[43m,\u001b[49m\u001b[43m \u001b[49m\u001b[43miterations\u001b[49m\u001b[43m,\u001b[49m\u001b[43m \u001b[49m\u001b[43mpage\u001b[49m\n\u001b[32m     15\u001b[39m \u001b[43m        \u001b[49m\u001b[43m]\u001b[49m\u001b[43m,\u001b[49m\n\u001b[32m     16\u001b[39m \u001b[43m        \u001b[49m\u001b[43mcheck\u001b[49m\u001b[43m=\u001b[49m\u001b[38;5;28;43;01mTrue\u001b[39;49;00m\n\u001b[32m     17\u001b[39m \u001b[43m    \u001b[49m\u001b[43m)\u001b[49m\n\u001b[32m     18\u001b[39m     \u001b[38;5;28mprint\u001b[39m(\u001b[33m\"\u001b[39m\u001b[33mLighthouse run completed.\u001b[39m\u001b[33m\"\u001b[39m)\n\u001b[32m     19\u001b[39m \u001b[38;5;28;01mexcept\u001b[39;00m subprocess.CalledProcessError \u001b[38;5;28;01mas\u001b[39;00m e:\n",
      "\u001b[36mFile \u001b[39m\u001b[32m~\\AppData\\Local\\Programs\\Python\\Python312\\Lib\\subprocess.py:548\u001b[39m, in \u001b[36mrun\u001b[39m\u001b[34m(input, capture_output, timeout, check, *popenargs, **kwargs)\u001b[39m\n\u001b[32m    545\u001b[39m     kwargs[\u001b[33m'\u001b[39m\u001b[33mstdout\u001b[39m\u001b[33m'\u001b[39m] = PIPE\n\u001b[32m    546\u001b[39m     kwargs[\u001b[33m'\u001b[39m\u001b[33mstderr\u001b[39m\u001b[33m'\u001b[39m] = PIPE\n\u001b[32m--> \u001b[39m\u001b[32m548\u001b[39m \u001b[38;5;28;01mwith\u001b[39;00m \u001b[43mPopen\u001b[49m\u001b[43m(\u001b[49m\u001b[43m*\u001b[49m\u001b[43mpopenargs\u001b[49m\u001b[43m,\u001b[49m\u001b[43m \u001b[49m\u001b[43m*\u001b[49m\u001b[43m*\u001b[49m\u001b[43mkwargs\u001b[49m\u001b[43m)\u001b[49m \u001b[38;5;28;01mas\u001b[39;00m process:\n\u001b[32m    549\u001b[39m     \u001b[38;5;28;01mtry\u001b[39;00m:\n\u001b[32m    550\u001b[39m         stdout, stderr = process.communicate(\u001b[38;5;28minput\u001b[39m, timeout=timeout)\n",
      "\u001b[36mFile \u001b[39m\u001b[32m~\\AppData\\Local\\Programs\\Python\\Python312\\Lib\\subprocess.py:1026\u001b[39m, in \u001b[36mPopen.__init__\u001b[39m\u001b[34m(self, args, bufsize, executable, stdin, stdout, stderr, preexec_fn, close_fds, shell, cwd, env, universal_newlines, startupinfo, creationflags, restore_signals, start_new_session, pass_fds, user, group, extra_groups, encoding, errors, text, umask, pipesize, process_group)\u001b[39m\n\u001b[32m   1022\u001b[39m         \u001b[38;5;28;01mif\u001b[39;00m \u001b[38;5;28mself\u001b[39m.text_mode:\n\u001b[32m   1023\u001b[39m             \u001b[38;5;28mself\u001b[39m.stderr = io.TextIOWrapper(\u001b[38;5;28mself\u001b[39m.stderr,\n\u001b[32m   1024\u001b[39m                     encoding=encoding, errors=errors)\n\u001b[32m-> \u001b[39m\u001b[32m1026\u001b[39m     \u001b[38;5;28;43mself\u001b[39;49m\u001b[43m.\u001b[49m\u001b[43m_execute_child\u001b[49m\u001b[43m(\u001b[49m\u001b[43margs\u001b[49m\u001b[43m,\u001b[49m\u001b[43m \u001b[49m\u001b[43mexecutable\u001b[49m\u001b[43m,\u001b[49m\u001b[43m \u001b[49m\u001b[43mpreexec_fn\u001b[49m\u001b[43m,\u001b[49m\u001b[43m \u001b[49m\u001b[43mclose_fds\u001b[49m\u001b[43m,\u001b[49m\n\u001b[32m   1027\u001b[39m \u001b[43m                        \u001b[49m\u001b[43mpass_fds\u001b[49m\u001b[43m,\u001b[49m\u001b[43m \u001b[49m\u001b[43mcwd\u001b[49m\u001b[43m,\u001b[49m\u001b[43m \u001b[49m\u001b[43menv\u001b[49m\u001b[43m,\u001b[49m\n\u001b[32m   1028\u001b[39m \u001b[43m                        \u001b[49m\u001b[43mstartupinfo\u001b[49m\u001b[43m,\u001b[49m\u001b[43m \u001b[49m\u001b[43mcreationflags\u001b[49m\u001b[43m,\u001b[49m\u001b[43m \u001b[49m\u001b[43mshell\u001b[49m\u001b[43m,\u001b[49m\n\u001b[32m   1029\u001b[39m \u001b[43m                        \u001b[49m\u001b[43mp2cread\u001b[49m\u001b[43m,\u001b[49m\u001b[43m \u001b[49m\u001b[43mp2cwrite\u001b[49m\u001b[43m,\u001b[49m\n\u001b[32m   1030\u001b[39m \u001b[43m                        \u001b[49m\u001b[43mc2pread\u001b[49m\u001b[43m,\u001b[49m\u001b[43m \u001b[49m\u001b[43mc2pwrite\u001b[49m\u001b[43m,\u001b[49m\n\u001b[32m   1031\u001b[39m \u001b[43m                        \u001b[49m\u001b[43merrread\u001b[49m\u001b[43m,\u001b[49m\u001b[43m \u001b[49m\u001b[43merrwrite\u001b[49m\u001b[43m,\u001b[49m\n\u001b[32m   1032\u001b[39m \u001b[43m                        \u001b[49m\u001b[43mrestore_signals\u001b[49m\u001b[43m,\u001b[49m\n\u001b[32m   1033\u001b[39m \u001b[43m                        \u001b[49m\u001b[43mgid\u001b[49m\u001b[43m,\u001b[49m\u001b[43m \u001b[49m\u001b[43mgids\u001b[49m\u001b[43m,\u001b[49m\u001b[43m \u001b[49m\u001b[43muid\u001b[49m\u001b[43m,\u001b[49m\u001b[43m \u001b[49m\u001b[43mumask\u001b[49m\u001b[43m,\u001b[49m\n\u001b[32m   1034\u001b[39m \u001b[43m                        \u001b[49m\u001b[43mstart_new_session\u001b[49m\u001b[43m,\u001b[49m\u001b[43m \u001b[49m\u001b[43mprocess_group\u001b[49m\u001b[43m)\u001b[49m\n\u001b[32m   1035\u001b[39m \u001b[38;5;28;01mexcept\u001b[39;00m:\n\u001b[32m   1036\u001b[39m     \u001b[38;5;66;03m# Cleanup if the child failed starting.\u001b[39;00m\n\u001b[32m   1037\u001b[39m     \u001b[38;5;28;01mfor\u001b[39;00m f \u001b[38;5;129;01min\u001b[39;00m \u001b[38;5;28mfilter\u001b[39m(\u001b[38;5;28;01mNone\u001b[39;00m, (\u001b[38;5;28mself\u001b[39m.stdin, \u001b[38;5;28mself\u001b[39m.stdout, \u001b[38;5;28mself\u001b[39m.stderr)):\n",
      "\u001b[36mFile \u001b[39m\u001b[32m~\\AppData\\Local\\Programs\\Python\\Python312\\Lib\\subprocess.py:1462\u001b[39m, in \u001b[36mPopen._execute_child\u001b[39m\u001b[34m(self, args, executable, preexec_fn, close_fds, pass_fds, cwd, env, startupinfo, creationflags, shell, p2cread, p2cwrite, c2pread, c2pwrite, errread, errwrite, unused_restore_signals, unused_gid, unused_gids, unused_uid, unused_umask, unused_start_new_session, unused_process_group)\u001b[39m\n\u001b[32m   1460\u001b[39m     args = list2cmdline([args])\n\u001b[32m   1461\u001b[39m \u001b[38;5;28;01melse\u001b[39;00m:\n\u001b[32m-> \u001b[39m\u001b[32m1462\u001b[39m     args = \u001b[43mlist2cmdline\u001b[49m\u001b[43m(\u001b[49m\u001b[43margs\u001b[49m\u001b[43m)\u001b[49m\n\u001b[32m   1464\u001b[39m \u001b[38;5;28;01mif\u001b[39;00m executable \u001b[38;5;129;01mis\u001b[39;00m \u001b[38;5;129;01mnot\u001b[39;00m \u001b[38;5;28;01mNone\u001b[39;00m:\n\u001b[32m   1465\u001b[39m     executable = os.fsdecode(executable)\n",
      "\u001b[36mFile \u001b[39m\u001b[32m~\\AppData\\Local\\Programs\\Python\\Python312\\Lib\\subprocess.py:608\u001b[39m, in \u001b[36mlist2cmdline\u001b[39m\u001b[34m(seq)\u001b[39m\n\u001b[32m    606\u001b[39m result = []\n\u001b[32m    607\u001b[39m needquote = \u001b[38;5;28;01mFalse\u001b[39;00m\n\u001b[32m--> \u001b[39m\u001b[32m608\u001b[39m \u001b[43m\u001b[49m\u001b[38;5;28;43;01mfor\u001b[39;49;00m\u001b[43m \u001b[49m\u001b[43marg\u001b[49m\u001b[43m \u001b[49m\u001b[38;5;129;43;01min\u001b[39;49;00m\u001b[43m \u001b[49m\u001b[38;5;28;43mmap\u001b[39;49m\u001b[43m(\u001b[49m\u001b[43mos\u001b[49m\u001b[43m.\u001b[49m\u001b[43mfsdecode\u001b[49m\u001b[43m,\u001b[49m\u001b[43m \u001b[49m\u001b[43mseq\u001b[49m\u001b[43m)\u001b[49m\u001b[43m:\u001b[49m\n\u001b[32m    609\u001b[39m \u001b[43m    \u001b[49m\u001b[43mbs_buf\u001b[49m\u001b[43m \u001b[49m\u001b[43m=\u001b[49m\u001b[43m \u001b[49m\u001b[43m[\u001b[49m\u001b[43m]\u001b[49m\n\u001b[32m    611\u001b[39m \u001b[43m    \u001b[49m\u001b[38;5;66;43;03m# Add a space to separate this argument from the others\u001b[39;49;00m\n",
      "\u001b[36mFile \u001b[39m\u001b[32m~\\AppData\\Local\\Programs\\Python\\Python312\\Lib\\os.py:830\u001b[39m, in \u001b[36m_fscodec.<locals>.fsdecode\u001b[39m\u001b[34m(filename)\u001b[39m\n\u001b[32m    824\u001b[39m \u001b[38;5;28;01mdef\u001b[39;00m\u001b[38;5;250m \u001b[39m\u001b[34mfsdecode\u001b[39m(filename):\n\u001b[32m    825\u001b[39m \u001b[38;5;250m    \u001b[39m\u001b[33;03m\"\"\"Decode filename (an os.PathLike, bytes, or str) from the filesystem\u001b[39;00m\n\u001b[32m    826\u001b[39m \u001b[33;03m    encoding with 'surrogateescape' error handler, return str unchanged. On\u001b[39;00m\n\u001b[32m    827\u001b[39m \u001b[33;03m    Windows, use 'strict' error handler if the file system encoding is\u001b[39;00m\n\u001b[32m    828\u001b[39m \u001b[33;03m    'mbcs' (which is the default encoding).\u001b[39;00m\n\u001b[32m    829\u001b[39m \u001b[33;03m    \"\"\"\u001b[39;00m\n\u001b[32m--> \u001b[39m\u001b[32m830\u001b[39m     filename = \u001b[43mfspath\u001b[49m\u001b[43m(\u001b[49m\u001b[43mfilename\u001b[49m\u001b[43m)\u001b[49m  \u001b[38;5;66;03m# Does type-checking of `filename`.\u001b[39;00m\n\u001b[32m    831\u001b[39m     \u001b[38;5;28;01mif\u001b[39;00m \u001b[38;5;28misinstance\u001b[39m(filename, \u001b[38;5;28mbytes\u001b[39m):\n\u001b[32m    832\u001b[39m         \u001b[38;5;28;01mreturn\u001b[39;00m filename.decode(encoding, errors)\n",
      "\u001b[31mTypeError\u001b[39m: expected str, bytes or os.PathLike object, not int"
     ]
    }
   ],
   "source": [
    "run_lighthouse(\"csr\", \"books\", 1)"
   ]
  },
  {
   "cell_type": "markdown",
   "id": "116fa6fa",
   "metadata": {},
   "source": [
    "## 10 Iterations"
   ]
  },
  {
   "cell_type": "code",
   "execution_count": null,
   "id": "294e73a3",
   "metadata": {},
   "outputs": [],
   "source": [
    "for app in apps:\n",
    "    for page in pages:\n",
    "        run_lighthouse(app, page, iterations[0])"
   ]
  },
  {
   "cell_type": "markdown",
   "id": "78ddd979",
   "metadata": {},
   "source": [
    "## 100 Iterations"
   ]
  },
  {
   "cell_type": "code",
   "execution_count": null,
   "id": "e0f8a8c2",
   "metadata": {},
   "outputs": [],
   "source": [
    "for app in apps:\n",
    "    for page in pages:\n",
    "        run_lighthouse(app, page, iterations[1])"
   ]
  },
  {
   "cell_type": "markdown",
   "id": "019b2d9c",
   "metadata": {},
   "source": [
    "## 1.000 iterations"
   ]
  },
  {
   "cell_type": "code",
   "execution_count": null,
   "id": "b45718bb",
   "metadata": {},
   "outputs": [],
   "source": [
    "for app in apps:\n",
    "    for page in pages:\n",
    "        run_lighthouse(app, page, iterations[2])"
   ]
  },
  {
   "cell_type": "markdown",
   "id": "043911c3",
   "metadata": {},
   "source": [
    "## Run everything"
   ]
  },
  {
   "cell_type": "code",
   "execution_count": null,
   "id": "f629d98d",
   "metadata": {},
   "outputs": [],
   "source": [
    "for app in apps:\n",
    "    for page in pages:\n",
    "        for n in iterations:\n",
    "            run_lighthouse(app, page, n)"
   ]
  }
 ],
 "metadata": {
  "kernelspec": {
   "display_name": "Python (metrics)",
   "language": "python",
   "name": "metrics"
  },
  "language_info": {
   "codemirror_mode": {
    "name": "ipython",
    "version": 3
   },
   "file_extension": ".py",
   "mimetype": "text/x-python",
   "name": "python",
   "nbconvert_exporter": "python",
   "pygments_lexer": "ipython3",
   "version": "3.12.0"
  }
 },
 "nbformat": 4,
 "nbformat_minor": 5
}
